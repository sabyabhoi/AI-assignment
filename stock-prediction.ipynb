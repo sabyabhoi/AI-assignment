{
 "cells": [
  {
   "cell_type": "code",
   "execution_count": null,
   "metadata": {},
   "outputs": [],
   "source": [
    "import pandas as pd\n",
    "\n",
    "import os\n",
    "os.environ['PYTHONHASHSEED']=str(221)\n",
    "\n",
    "import random\n",
    "random.seed(221)\n",
    "\n",
    "import numpy as np\n",
    "np.random.seed(221)\n",
    "\n",
    "import tensorflow as tf\n",
    "from tensorflow.keras.models import Sequential\n",
    "from tensorflow.keras.optimizers import Adam\n",
    "from tensorflow.keras import layers\n",
    "\n",
    "tf.random.set_seed(221)\n",
    "\n",
    "import matplotlib.pyplot as plt\n",
    "from datetime import datetime, timedelta\n",
    "import yfinance as yf\n",
    "import genetic_algo as GA"
   ]
  },
  {
   "cell_type": "code",
   "execution_count": null,
   "metadata": {},
   "outputs": [],
   "source": [
    "df = yf.download('MSFT')[['Close']]\n",
    "df"
   ]
  },
  {
   "cell_type": "code",
   "execution_count": null,
   "metadata": {},
   "outputs": [],
   "source": [
    "def convertStringtoDate(s):\n",
    "    l = s.split('-')\n",
    "    y, m, d = int(l[0]), int(l[1]), int(l[2])\n",
    "    return datetime(year=y, month=m, day=d)"
   ]
  },
  {
   "cell_type": "code",
   "execution_count": null,
   "metadata": {},
   "outputs": [],
   "source": [
    "df.plot()"
   ]
  },
  {
   "cell_type": "code",
   "execution_count": null,
   "metadata": {},
   "outputs": [],
   "source": [
    "def getNextDateFromData(df, curr_date):\n",
    "    ind = df.index.get_loc(curr_date)\n",
    "    return df.index[ind+1]\n"
   ]
  },
  {
   "cell_type": "code",
   "execution_count": null,
   "metadata": {},
   "outputs": [],
   "source": [
    "def createWindowedDataframe(df, start, end, w):\n",
    "    start_date = convertStringtoDate(start)\n",
    "    end_date = convertStringtoDate(end)\n",
    "    curr_date = start_date\n",
    "    reached_end = False\n",
    "\n",
    "    dates = []\n",
    "    features, target = [], []\n",
    "    \n",
    "    while not reached_end:\n",
    "        df_window = df.loc[:curr_date].tail(w+1)\n",
    "\n",
    "        if (len(df_window) != w+1):\n",
    "            raise Exception(f'Window size too large for date {curr_date}')\n",
    "        \n",
    "        closing_values = df_window['Close'].to_numpy()\n",
    "        X, y = closing_values[:-1], closing_values[-1]\n",
    "\n",
    "        dates.append(curr_date)\n",
    "        features.append(X)\n",
    "        target.append(y)\n",
    "\n",
    "        if curr_date == end_date:\n",
    "            reached_end = True\n",
    "        else:\n",
    "            curr_date = getNextDateFromData(df, curr_date)\n",
    "\n",
    "    windowed_dataframe = pd.DataFrame({})\n",
    "    windowed_dataframe['Target Date'] = dates\n",
    "    features = np.array(features)\n",
    "\n",
    "    for i in range(w):\n",
    "        windowed_dataframe[f'Target-{w-i}'] = features[:,i]\n",
    "    \n",
    "    windowed_dataframe['Target'] = target\n",
    "    return windowed_dataframe\n",
    "\n",
    "windowed_dataframe = createWindowedDataframe(df, '2021-08-20', '2023-10-05', w=3)\n",
    "windowed_dataframe\n"
   ]
  },
  {
   "cell_type": "code",
   "execution_count": null,
   "metadata": {},
   "outputs": [],
   "source": [
    "def train_val_test_split(windowed_dataframe, train_ratio, test_ratio):\n",
    "    df = windowed_dataframe[:]\n",
    "    dates = df.pop('Target Date')\n",
    "    df = df.to_numpy()\n",
    "    features = df[:, :-1]\n",
    "    features = features.reshape((len(df), features.shape[1], 1)).astype(np.float32)\n",
    "    target = df[:, -1].astype(np.float32)\n",
    "\n",
    "    train_split_point = int(len(df)*train_ratio)\n",
    "    test_split_point = int(len(df)*(1-test_ratio))\n",
    "    \n",
    "    train_dates = dates[:train_split_point]\n",
    "    train_X = features[:train_split_point]\n",
    "    train_y = target[:train_split_point]\n",
    "\n",
    "    val_dates = dates[train_split_point:test_split_point]\n",
    "    val_X = features[train_split_point:test_split_point]\n",
    "    val_y = target[train_split_point:test_split_point]\n",
    "\n",
    "    test_dates = dates[test_split_point:]\n",
    "    test_X = features[test_split_point:]\n",
    "    test_y = target[test_split_point:]\n",
    "\n",
    "    return train_dates, train_X, train_y, val_dates, val_X, val_y, test_dates, test_X, test_y\n"
   ]
  },
  {
   "cell_type": "code",
   "execution_count": null,
   "metadata": {},
   "outputs": [],
   "source": [
    "def train(parameters, train_X, train_y, epochs=150, verbose=0):\n",
    "    model = Sequential([\n",
    "        layers.Input((parameters['window_len'], 1)),\n",
    "        layers.LSTM(parameters['hidden_units_1'], return_sequences=True),\n",
    "        layers.LSTM(parameters['hidden_units_2'], activation='relu'),\n",
    "        layers.Dense(1)\n",
    "    ])\n",
    "\n",
    "    model.compile(loss='mse', optimizer=Adam(learning_rate=0.001))\n",
    "    model.fit(train_X, train_y, epochs=epochs, verbose=verbose)\n",
    "    return model\n"
   ]
  },
  {
   "cell_type": "code",
   "execution_count": null,
   "metadata": {},
   "outputs": [],
   "source": [
    "def plot(dates, observed, predicted, label):\n",
    "    plt.figure(figsize=(12,7))\n",
    "    plt.plot(dates, predicted)\n",
    "    plt.plot(dates, observed)\n",
    "\n",
    "    plt.legend([label+' Predictions',\n",
    "                label+' Observations'])\n",
    "    plt.show()\n"
   ]
  },
  {
   "cell_type": "code",
   "execution_count": null,
   "metadata": {},
   "outputs": [],
   "source": [
    "def decode_parameters(s):\n",
    "    parameters={}\n",
    "    parameters['window_len'] = int(s[0:3], 2)\n",
    "    parameters['hidden_units_1'] = int(s[3:11], 2)\n",
    "    parameters['hidden_units_2'] = int(s[11:18], 2)\n",
    "    return parameters\n"
   ]
  },
  {
   "cell_type": "code",
   "execution_count": null,
   "metadata": {},
   "outputs": [],
   "source": [
    "fitness_values = {}"
   ]
  },
  {
   "cell_type": "code",
   "execution_count": null,
   "metadata": {},
   "outputs": [],
   "source": [
    "def fitness(x : GA.Individual):\n",
    "    \n",
    "    if x.gene in fitness_values:\n",
    "        return fitness_values[x.gene]\n",
    "\n",
    "    parameters = decode_parameters(x.gene)\n",
    "\n",
    "    if parameters['window_len']==0 or parameters['hidden_units_1']==0 or parameters['hidden_units_2']==0:\n",
    "        return float('inf')\n",
    "\n",
    "    print(parameters)\n",
    "    windowed_dataframe = createWindowedDataframe(df, '2021-08-20', '2023-10-05', w=parameters['window_len'])\n",
    "    train_dates, train_X, train_y, val_dates, val_X, val_y, test_dates, test_X, test_y = train_val_test_split(windowed_dataframe, 0.8, 0.1)\n",
    "    model = train(parameters, train_X=train_X, train_y=train_y)\n",
    "    fitness_values[x.gene] = model.evaluate(val_X, val_y) \n",
    "    return fitness_values[x.gene]\n"
   ]
  },
  {
   "cell_type": "markdown",
   "metadata": {},
   "source": [
    "# Running Genetic Algorithm\n"
   ]
  },
  {
   "cell_type": "code",
   "execution_count": null,
   "metadata": {},
   "outputs": [],
   "source": [
    "ga = GA.GeneticAlgorithm(3, 20, 18, 0.1, fitness)\n",
    "ind = ga.run()\n",
    "best_param = decode_parameters(ind.gene)\n",
    "print(\"Best params :\")\n",
    "print(best_param)\n",
    "print(\"Val loss 1 :\", fitness_values[ind.gene])"
   ]
  },
  {
   "cell_type": "code",
   "execution_count": null,
   "metadata": {},
   "outputs": [],
   "source": [
    "windowed_dataframe = createWindowedDataframe(df, '2021-08-20', '2023-10-05', w=best_param['window_len'])\n",
    "train_dates, train_X, train_y, val_dates, val_X, val_y, test_dates, test_X, test_y = train_val_test_split(windowed_dataframe, 0.8, 0.1)\n",
    "best_model = train(best_param, train_X=train_X, train_y=train_y, verbose=0, epochs=200)\n",
    "best_model.evaluate(val_X, val_y)\n",
    "best_model.evaluate(test_X, test_y)\n",
    "test_predictions = best_model.predict(test_X)\n",
    "plot(dates=test_dates, observed=test_y, predicted=test_predictions, label='Test')\n"
   ]
  }
 ],
 "metadata": {
  "kernelspec": {
   "display_name": "Python 3",
   "language": "python",
   "name": "python3"
  },
  "language_info": {
   "codemirror_mode": {
    "name": "ipython",
    "version": 3
   },
   "file_extension": ".py",
   "mimetype": "text/x-python",
   "name": "python",
   "nbconvert_exporter": "python",
   "pygments_lexer": "ipython3",
   "version": "3.11.5"
  }
 },
 "nbformat": 4,
 "nbformat_minor": 2
}
